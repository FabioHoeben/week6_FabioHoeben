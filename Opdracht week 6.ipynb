{
 "cells": [
  {
   "cell_type": "markdown",
   "metadata": {},
   "source": [
    "# Assignment week 6"
   ]
  },
  {
   "cell_type": "markdown",
   "metadata": {},
   "source": [
    "In this assignment we have to predict of a rating of a dress is positive or negative, based on a star rating. 1 till 3 is negative and 4 and 5 positive."
   ]
  },
  {
   "cell_type": "code",
   "execution_count": 1,
   "metadata": {},
   "outputs": [],
   "source": [
    "import pandas as pd\n",
    "from sklearn.feature_extraction.text import CountVectorizer\n",
    "from sklearn.model_selection import train_test_split\n",
    "from sklearn.metrics import confusion_matrix\n",
    "from sklearn.naive_bayes import MultinomialNB\n",
    "import numpy as np"
   ]
  },
  {
   "cell_type": "markdown",
   "metadata": {},
   "source": [
    "# Data pre-Processing steps"
   ]
  },
  {
   "cell_type": "code",
   "execution_count": 2,
   "metadata": {},
   "outputs": [
    {
     "data": {
      "text/html": [
       "<div>\n",
       "<style scoped>\n",
       "    .dataframe tbody tr th:only-of-type {\n",
       "        vertical-align: middle;\n",
       "    }\n",
       "\n",
       "    .dataframe tbody tr th {\n",
       "        vertical-align: top;\n",
       "    }\n",
       "\n",
       "    .dataframe thead th {\n",
       "        text-align: right;\n",
       "    }\n",
       "</style>\n",
       "<table border=\"1\" class=\"dataframe\">\n",
       "  <thead>\n",
       "    <tr style=\"text-align: right;\">\n",
       "      <th></th>\n",
       "      <th>Unnamed: 0</th>\n",
       "      <th>Clothing ID</th>\n",
       "      <th>Age</th>\n",
       "      <th>Title</th>\n",
       "      <th>Review Text</th>\n",
       "      <th>Rating</th>\n",
       "      <th>Recommended IND</th>\n",
       "      <th>Positive Feedback Count</th>\n",
       "      <th>Division Name</th>\n",
       "      <th>Department Name</th>\n",
       "      <th>Class Name</th>\n",
       "    </tr>\n",
       "  </thead>\n",
       "  <tbody>\n",
       "    <tr>\n",
       "      <th>0</th>\n",
       "      <td>0</td>\n",
       "      <td>767</td>\n",
       "      <td>33</td>\n",
       "      <td>NaN</td>\n",
       "      <td>Absolutely wonderful - silky and sexy and comf...</td>\n",
       "      <td>4</td>\n",
       "      <td>1</td>\n",
       "      <td>0</td>\n",
       "      <td>Initmates</td>\n",
       "      <td>Intimate</td>\n",
       "      <td>Intimates</td>\n",
       "    </tr>\n",
       "    <tr>\n",
       "      <th>1</th>\n",
       "      <td>1</td>\n",
       "      <td>1080</td>\n",
       "      <td>34</td>\n",
       "      <td>NaN</td>\n",
       "      <td>Love this dress!  it's sooo pretty.  i happene...</td>\n",
       "      <td>5</td>\n",
       "      <td>1</td>\n",
       "      <td>4</td>\n",
       "      <td>General</td>\n",
       "      <td>Dresses</td>\n",
       "      <td>Dresses</td>\n",
       "    </tr>\n",
       "    <tr>\n",
       "      <th>2</th>\n",
       "      <td>2</td>\n",
       "      <td>1077</td>\n",
       "      <td>60</td>\n",
       "      <td>Some major design flaws</td>\n",
       "      <td>I had such high hopes for this dress and reall...</td>\n",
       "      <td>3</td>\n",
       "      <td>0</td>\n",
       "      <td>0</td>\n",
       "      <td>General</td>\n",
       "      <td>Dresses</td>\n",
       "      <td>Dresses</td>\n",
       "    </tr>\n",
       "    <tr>\n",
       "      <th>3</th>\n",
       "      <td>3</td>\n",
       "      <td>1049</td>\n",
       "      <td>50</td>\n",
       "      <td>My favorite buy!</td>\n",
       "      <td>I love, love, love this jumpsuit. it's fun, fl...</td>\n",
       "      <td>5</td>\n",
       "      <td>1</td>\n",
       "      <td>0</td>\n",
       "      <td>General Petite</td>\n",
       "      <td>Bottoms</td>\n",
       "      <td>Pants</td>\n",
       "    </tr>\n",
       "    <tr>\n",
       "      <th>4</th>\n",
       "      <td>4</td>\n",
       "      <td>847</td>\n",
       "      <td>47</td>\n",
       "      <td>Flattering shirt</td>\n",
       "      <td>This shirt is very flattering to all due to th...</td>\n",
       "      <td>5</td>\n",
       "      <td>1</td>\n",
       "      <td>6</td>\n",
       "      <td>General</td>\n",
       "      <td>Tops</td>\n",
       "      <td>Blouses</td>\n",
       "    </tr>\n",
       "  </tbody>\n",
       "</table>\n",
       "</div>"
      ],
      "text/plain": [
       "   Unnamed: 0  Clothing ID  Age                    Title  \\\n",
       "0           0          767   33                      NaN   \n",
       "1           1         1080   34                      NaN   \n",
       "2           2         1077   60  Some major design flaws   \n",
       "3           3         1049   50         My favorite buy!   \n",
       "4           4          847   47         Flattering shirt   \n",
       "\n",
       "                                         Review Text  Rating  Recommended IND  \\\n",
       "0  Absolutely wonderful - silky and sexy and comf...       4                1   \n",
       "1  Love this dress!  it's sooo pretty.  i happene...       5                1   \n",
       "2  I had such high hopes for this dress and reall...       3                0   \n",
       "3  I love, love, love this jumpsuit. it's fun, fl...       5                1   \n",
       "4  This shirt is very flattering to all due to th...       5                1   \n",
       "\n",
       "   Positive Feedback Count   Division Name Department Name Class Name  \n",
       "0                        0       Initmates        Intimate  Intimates  \n",
       "1                        4         General         Dresses    Dresses  \n",
       "2                        0         General         Dresses    Dresses  \n",
       "3                        0  General Petite         Bottoms      Pants  \n",
       "4                        6         General            Tops    Blouses  "
      ]
     },
     "execution_count": 2,
     "metadata": {},
     "output_type": "execute_result"
    }
   ],
   "source": [
    "df = pd.read_csv('Womens Clothing E-Commerce Reviews.csv')\n",
    "df.head()"
   ]
  },
  {
   "cell_type": "code",
   "execution_count": 3,
   "metadata": {},
   "outputs": [
    {
     "data": {
      "text/html": [
       "<div>\n",
       "<style scoped>\n",
       "    .dataframe tbody tr th:only-of-type {\n",
       "        vertical-align: middle;\n",
       "    }\n",
       "\n",
       "    .dataframe tbody tr th {\n",
       "        vertical-align: top;\n",
       "    }\n",
       "\n",
       "    .dataframe thead th {\n",
       "        text-align: right;\n",
       "    }\n",
       "</style>\n",
       "<table border=\"1\" class=\"dataframe\">\n",
       "  <thead>\n",
       "    <tr style=\"text-align: right;\">\n",
       "      <th></th>\n",
       "      <th>Unnamed: 0</th>\n",
       "      <th>Clothing ID</th>\n",
       "      <th>Age</th>\n",
       "      <th>Title</th>\n",
       "      <th>Review Text</th>\n",
       "      <th>Rating</th>\n",
       "      <th>Recommended IND</th>\n",
       "      <th>Positive Feedback Count</th>\n",
       "      <th>Division Name</th>\n",
       "      <th>Department Name</th>\n",
       "      <th>Class Name</th>\n",
       "    </tr>\n",
       "  </thead>\n",
       "  <tbody>\n",
       "    <tr>\n",
       "      <th>2</th>\n",
       "      <td>2</td>\n",
       "      <td>1077</td>\n",
       "      <td>60</td>\n",
       "      <td>Some major design flaws</td>\n",
       "      <td>I had such high hopes for this dress and reall...</td>\n",
       "      <td>3</td>\n",
       "      <td>0</td>\n",
       "      <td>0</td>\n",
       "      <td>General</td>\n",
       "      <td>Dresses</td>\n",
       "      <td>Dresses</td>\n",
       "    </tr>\n",
       "    <tr>\n",
       "      <th>5</th>\n",
       "      <td>5</td>\n",
       "      <td>1080</td>\n",
       "      <td>49</td>\n",
       "      <td>Not for the very petite</td>\n",
       "      <td>I love tracy reese dresses, but this one is no...</td>\n",
       "      <td>2</td>\n",
       "      <td>0</td>\n",
       "      <td>4</td>\n",
       "      <td>General</td>\n",
       "      <td>Dresses</td>\n",
       "      <td>Dresses</td>\n",
       "    </tr>\n",
       "    <tr>\n",
       "      <th>8</th>\n",
       "      <td>8</td>\n",
       "      <td>1077</td>\n",
       "      <td>24</td>\n",
       "      <td>Flattering</td>\n",
       "      <td>I love this dress. i usually get an xs but it ...</td>\n",
       "      <td>5</td>\n",
       "      <td>1</td>\n",
       "      <td>0</td>\n",
       "      <td>General</td>\n",
       "      <td>Dresses</td>\n",
       "      <td>Dresses</td>\n",
       "    </tr>\n",
       "    <tr>\n",
       "      <th>9</th>\n",
       "      <td>9</td>\n",
       "      <td>1077</td>\n",
       "      <td>34</td>\n",
       "      <td>Such a fun dress!</td>\n",
       "      <td>I'm 5\"5' and 125 lbs. i ordered the s petite t...</td>\n",
       "      <td>5</td>\n",
       "      <td>1</td>\n",
       "      <td>0</td>\n",
       "      <td>General</td>\n",
       "      <td>Dresses</td>\n",
       "      <td>Dresses</td>\n",
       "    </tr>\n",
       "    <tr>\n",
       "      <th>10</th>\n",
       "      <td>10</td>\n",
       "      <td>1077</td>\n",
       "      <td>53</td>\n",
       "      <td>Dress looks like it's made of cheap material</td>\n",
       "      <td>Dress runs small esp where the zipper area run...</td>\n",
       "      <td>3</td>\n",
       "      <td>0</td>\n",
       "      <td>14</td>\n",
       "      <td>General</td>\n",
       "      <td>Dresses</td>\n",
       "      <td>Dresses</td>\n",
       "    </tr>\n",
       "  </tbody>\n",
       "</table>\n",
       "</div>"
      ],
      "text/plain": [
       "    Unnamed: 0  Clothing ID  Age  \\\n",
       "2            2         1077   60   \n",
       "5            5         1080   49   \n",
       "8            8         1077   24   \n",
       "9            9         1077   34   \n",
       "10          10         1077   53   \n",
       "\n",
       "                                           Title  \\\n",
       "2                        Some major design flaws   \n",
       "5                        Not for the very petite   \n",
       "8                                     Flattering   \n",
       "9                              Such a fun dress!   \n",
       "10  Dress looks like it's made of cheap material   \n",
       "\n",
       "                                          Review Text  Rating  \\\n",
       "2   I had such high hopes for this dress and reall...       3   \n",
       "5   I love tracy reese dresses, but this one is no...       2   \n",
       "8   I love this dress. i usually get an xs but it ...       5   \n",
       "9   I'm 5\"5' and 125 lbs. i ordered the s petite t...       5   \n",
       "10  Dress runs small esp where the zipper area run...       3   \n",
       "\n",
       "    Recommended IND  Positive Feedback Count Division Name Department Name  \\\n",
       "2                 0                        0       General         Dresses   \n",
       "5                 0                        4       General         Dresses   \n",
       "8                 1                        0       General         Dresses   \n",
       "9                 1                        0       General         Dresses   \n",
       "10                0                       14       General         Dresses   \n",
       "\n",
       "   Class Name  \n",
       "2     Dresses  \n",
       "5     Dresses  \n",
       "8     Dresses  \n",
       "9     Dresses  \n",
       "10    Dresses  "
      ]
     },
     "execution_count": 3,
     "metadata": {},
     "output_type": "execute_result"
    }
   ],
   "source": [
    "#Keep only the row with dresses and remove empty rows\n",
    "df = df[(df['Class Name'] == 'Dresses')]\n",
    "df.dropna(\n",
    "    axis=0,\n",
    "    how='any',\n",
    "    thresh=None,\n",
    "    subset=None,\n",
    "    inplace=True\n",
    ")\n",
    "df.head()"
   ]
  },
  {
   "cell_type": "code",
   "execution_count": 4,
   "metadata": {},
   "outputs": [
    {
     "data": {
      "text/html": [
       "<div>\n",
       "<style scoped>\n",
       "    .dataframe tbody tr th:only-of-type {\n",
       "        vertical-align: middle;\n",
       "    }\n",
       "\n",
       "    .dataframe tbody tr th {\n",
       "        vertical-align: top;\n",
       "    }\n",
       "\n",
       "    .dataframe thead th {\n",
       "        text-align: right;\n",
       "    }\n",
       "</style>\n",
       "<table border=\"1\" class=\"dataframe\">\n",
       "  <thead>\n",
       "    <tr style=\"text-align: right;\">\n",
       "      <th></th>\n",
       "      <th>Clothing ID</th>\n",
       "      <th>Review Text</th>\n",
       "      <th>Rating</th>\n",
       "      <th>Class Name</th>\n",
       "      <th>Rate</th>\n",
       "    </tr>\n",
       "  </thead>\n",
       "  <tbody>\n",
       "    <tr>\n",
       "      <th>2</th>\n",
       "      <td>1077</td>\n",
       "      <td>I had such high hopes for this dress and reall...</td>\n",
       "      <td>3</td>\n",
       "      <td>Dresses</td>\n",
       "      <td>Negative</td>\n",
       "    </tr>\n",
       "    <tr>\n",
       "      <th>5</th>\n",
       "      <td>1080</td>\n",
       "      <td>I love tracy reese dresses, but this one is no...</td>\n",
       "      <td>2</td>\n",
       "      <td>Dresses</td>\n",
       "      <td>Negative</td>\n",
       "    </tr>\n",
       "    <tr>\n",
       "      <th>8</th>\n",
       "      <td>1077</td>\n",
       "      <td>I love this dress. i usually get an xs but it ...</td>\n",
       "      <td>5</td>\n",
       "      <td>Dresses</td>\n",
       "      <td>Positive</td>\n",
       "    </tr>\n",
       "    <tr>\n",
       "      <th>9</th>\n",
       "      <td>1077</td>\n",
       "      <td>I'm 5\"5' and 125 lbs. i ordered the s petite t...</td>\n",
       "      <td>5</td>\n",
       "      <td>Dresses</td>\n",
       "      <td>Positive</td>\n",
       "    </tr>\n",
       "    <tr>\n",
       "      <th>10</th>\n",
       "      <td>1077</td>\n",
       "      <td>Dress runs small esp where the zipper area run...</td>\n",
       "      <td>3</td>\n",
       "      <td>Dresses</td>\n",
       "      <td>Negative</td>\n",
       "    </tr>\n",
       "  </tbody>\n",
       "</table>\n",
       "</div>"
      ],
      "text/plain": [
       "    Clothing ID                                        Review Text  Rating  \\\n",
       "2          1077  I had such high hopes for this dress and reall...       3   \n",
       "5          1080  I love tracy reese dresses, but this one is no...       2   \n",
       "8          1077  I love this dress. i usually get an xs but it ...       5   \n",
       "9          1077  I'm 5\"5' and 125 lbs. i ordered the s petite t...       5   \n",
       "10         1077  Dress runs small esp where the zipper area run...       3   \n",
       "\n",
       "   Class Name      Rate  \n",
       "2     Dresses  Negative  \n",
       "5     Dresses  Negative  \n",
       "8     Dresses  Positive  \n",
       "9     Dresses  Positive  \n",
       "10    Dresses  Negative  "
      ]
     },
     "execution_count": 4,
     "metadata": {},
     "output_type": "execute_result"
    }
   ],
   "source": [
    "#Make a colomn that shows of a colomn is positive or negative\n",
    "def positive_or_negative(x):\n",
    "    if(x > 3): \n",
    "        return 'Positive'\n",
    "    else: \n",
    "        return 'Negative'\n",
    "\n",
    "df['Rate'] = df['Rating'].apply(positive_or_negative)\n",
    "\n",
    "#select only the needed data\n",
    "df = df[[\"Clothing ID\",\"Review Text\", \"Rating\", \"Class Name\", \"Rate\"]]\n",
    "df.head()\n"
   ]
  },
  {
   "cell_type": "code",
   "execution_count": 5,
   "metadata": {},
   "outputs": [
    {
     "data": {
      "text/plain": [
       "Positive    4045\n",
       "Negative    1326\n",
       "Name: Rate, dtype: int64"
      ]
     },
     "execution_count": 5,
     "metadata": {},
     "output_type": "execute_result"
    }
   ],
   "source": [
    "df['Rate'].value_counts()"
   ]
  },
  {
   "cell_type": "markdown",
   "metadata": {},
   "source": [
    "# Text Modeling and Document Feature Matrix"
   ]
  },
  {
   "cell_type": "markdown",
   "metadata": {},
   "source": [
    "Here we use the bag of words model we count the words and put them in bags. We are going to do so by using CountVectorizer from sklearn.feature_text_extraction library.  Since the text used is English then we are going to use _stopwords for the English language. The stop_words are informative words and frequently used in the English language and therefore will not be counted. Also, we need to convert the text to Unicode and we are going to do so by using astype('U')"
   ]
  },
  {
   "cell_type": "code",
   "execution_count": 6,
   "metadata": {},
   "outputs": [
    {
     "name": "stdout",
     "output_type": "stream",
     "text": [
      "There are 7747 words in the vocabulary. A selection: ['allusion', 'allusione', 'almsot', 'alr', 'alright', 'als', 'altar', 'alter', 'alteration', 'alterations', 'altered', 'altering', 'alternate', 'alternations', 'alternative', 'althetic', 'altho', 'altogether', 'am5', 'amadi']\n"
     ]
    }
   ],
   "source": [
    "from sklearn.feature_extraction.text import CountVectorizer #The CountVectorizer object\n",
    "\n",
    "text = df['Review Text'].values.astype('U') #Taking the text from the df. We need to convert it to Unicode\n",
    "vect = CountVectorizer(stop_words='english') #Create the CV object, with English stop words\n",
    "vect = vect.fit(text) #We fit the model with the words from the review text\n",
    "vect\n",
    "feature_names = vect.get_feature_names() #Get the words from the vocabulary\n",
    "#feature_names\n",
    "print(f\"There are {len(feature_names)} words in the vocabulary. A selection: {feature_names[500:520]}\")\n"
   ]
  },
  {
   "cell_type": "code",
   "execution_count": 7,
   "metadata": {},
   "outputs": [
    {
     "name": "stdout",
     "output_type": "stream",
     "text": [
      "  (1, 7)\t1\n",
      "  (3, 71)\t1\n",
      "  (3, 214)\t1\n",
      "  (12, 480)\t1\n",
      "  (13, 200)\t1\n",
      "  (14, 78)\t1\n",
      "  (14, 408)\t1\n",
      "  (14, 420)\t1\n",
      "  (15, 37)\t1\n",
      "  (16, 3)\t1\n",
      "  (16, 44)\t1\n",
      "  (17, 11)\t1\n",
      "  (17, 236)\t1\n",
      "  (18, 54)\t1\n",
      "  (19, 39)\t1\n",
      "  (21, 59)\t1\n",
      "  (21, 216)\t1\n",
      "  (21, 225)\t1\n",
      "  (22, 229)\t1\n",
      "  (23, 102)\t1\n",
      "  (23, 178)\t1\n",
      "  (23, 222)\t1\n",
      "  (23, 243)\t1\n",
      "  (24, 403)\t1\n",
      "  (26, 11)\t2\n",
      "  :\t:\n",
      "  (475, 96)\t1\n",
      "  (475, 455)\t2\n",
      "  (476, 63)\t1\n",
      "  (476, 200)\t1\n",
      "  (476, 334)\t1\n",
      "  (477, 344)\t1\n",
      "  (478, 156)\t1\n",
      "  (479, 216)\t1\n",
      "  (479, 368)\t1\n",
      "  (482, 309)\t2\n",
      "  (484, 130)\t1\n",
      "  (489, 362)\t1\n",
      "  (490, 112)\t1\n",
      "  (492, 11)\t2\n",
      "  (492, 364)\t1\n",
      "  (493, 50)\t1\n",
      "  (493, 480)\t1\n",
      "  (497, 442)\t1\n",
      "  (498, 334)\t1\n",
      "  (499, 11)\t1\n",
      "  (499, 165)\t1\n",
      "  (499, 187)\t1\n",
      "  (499, 219)\t1\n",
      "  (499, 248)\t1\n",
      "  (499, 451)\t1\n"
     ]
    }
   ],
   "source": [
    "# Creates a document feature matrix\n",
    "docu_feat = vect.transform(text) # make a matrix\n",
    "print(docu_feat[0:500,0:500])"
   ]
  },
  {
   "cell_type": "markdown",
   "metadata": {},
   "source": [
    "# Split the file into a training and a test set"
   ]
  },
  {
   "cell_type": "code",
   "execution_count": 14,
   "metadata": {},
   "outputs": [],
   "source": [
    "nb = MultinomialNB() #create the model\n",
    "X = docu_feat #create the X matrix\n",
    "y = df['Rate'] #create the y-variable\n",
    "X_train, X_test, y_train, y_test = train_test_split(X, y, test_size=0.3, random_state=1) #split the data and store it\n",
    "\n",
    "\n",
    "\n",
    "nb = nb.fit(X_train, y_train) #fit the model X=features, y=character\n",
    "\n"
   ]
  },
  {
   "cell_type": "markdown",
   "metadata": {},
   "source": [
    "# Evaluate the performance of the model"
   ]
  },
  {
   "cell_type": "code",
   "execution_count": 13,
   "metadata": {},
   "outputs": [
    {
     "data": {
      "text/plain": [
       "0.8542183622828784"
      ]
     },
     "execution_count": 13,
     "metadata": {},
     "output_type": "execute_result"
    }
   ],
   "source": [
    "y_test_p = nb.predict(X_test)\n",
    "nb.score(X_test, y_test)"
   ]
  },
  {
   "cell_type": "code",
   "execution_count": 9,
   "metadata": {},
   "outputs": [
    {
     "data": {
      "text/html": [
       "<div>\n",
       "<style scoped>\n",
       "    .dataframe tbody tr th:only-of-type {\n",
       "        vertical-align: middle;\n",
       "    }\n",
       "\n",
       "    .dataframe tbody tr th {\n",
       "        vertical-align: top;\n",
       "    }\n",
       "\n",
       "    .dataframe thead th {\n",
       "        text-align: right;\n",
       "    }\n",
       "</style>\n",
       "<table border=\"1\" class=\"dataframe\">\n",
       "  <thead>\n",
       "    <tr style=\"text-align: right;\">\n",
       "      <th></th>\n",
       "      <th>Negative (predicted)</th>\n",
       "      <th>Positive (predicted)</th>\n",
       "    </tr>\n",
       "  </thead>\n",
       "  <tbody>\n",
       "    <tr>\n",
       "      <th>Negative (actual)</th>\n",
       "      <td>238</td>\n",
       "      <td>168</td>\n",
       "    </tr>\n",
       "    <tr>\n",
       "      <th>Positive (actual)</th>\n",
       "      <td>67</td>\n",
       "      <td>1139</td>\n",
       "    </tr>\n",
       "  </tbody>\n",
       "</table>\n",
       "</div>"
      ],
      "text/plain": [
       "                   Negative (predicted)  Positive (predicted)\n",
       "Negative (actual)                   238                   168\n",
       "Positive (actual)                    67                  1139"
      ]
     },
     "execution_count": 9,
     "metadata": {},
     "output_type": "execute_result"
    }
   ],
   "source": [
    "from sklearn.metrics import confusion_matrix\n",
    " \n",
    "cm = confusion_matrix(y_test, y_test_p)\n",
    "conf_matrix = pd.DataFrame(cm, index = [\"Negative (actual)\", \"Positive (actual)\"], columns = [\"Negative (predicted)\", \"Positive (predicted)\"])\n",
    "conf_matrix"
   ]
  },
  {
   "cell_type": "code",
   "execution_count": 10,
   "metadata": {},
   "outputs": [
    {
     "data": {
      "text/html": [
       "<div>\n",
       "<style scoped>\n",
       "    .dataframe tbody tr th:only-of-type {\n",
       "        vertical-align: middle;\n",
       "    }\n",
       "\n",
       "    .dataframe tbody tr th {\n",
       "        vertical-align: top;\n",
       "    }\n",
       "\n",
       "    .dataframe thead th {\n",
       "        text-align: right;\n",
       "    }\n",
       "</style>\n",
       "<table border=\"1\" class=\"dataframe\">\n",
       "  <thead>\n",
       "    <tr style=\"text-align: right;\">\n",
       "      <th></th>\n",
       "      <th>Negative (predicted)</th>\n",
       "      <th>Positive (predicted)</th>\n",
       "    </tr>\n",
       "  </thead>\n",
       "  <tbody>\n",
       "    <tr>\n",
       "      <th>Negative (actual)</th>\n",
       "      <td>238</td>\n",
       "      <td>168</td>\n",
       "    </tr>\n",
       "    <tr>\n",
       "      <th>Positive (actual)</th>\n",
       "      <td>67</td>\n",
       "      <td>1139</td>\n",
       "    </tr>\n",
       "  </tbody>\n",
       "</table>\n",
       "</div>"
      ],
      "text/plain": [
       "                   Negative (predicted)  Positive (predicted)\n",
       "Negative (actual)                   238                   168\n",
       "Positive (actual)                    67                  1139"
      ]
     },
     "execution_count": 10,
     "metadata": {},
     "output_type": "execute_result"
    }
   ],
   "source": [
    "conf_matrix"
   ]
  },
  {
   "cell_type": "markdown",
   "metadata": {},
   "source": [
    "A calculation of the variables\n",
    "\n",
    "$accuracy = \\frac{238 + 1139}{238 + 168 + 67 + 1139} = 0.85$ The accuracy is exactly the same as the knn-score\n",
    "\n",
    "How much of the predicted ‘negative’ is actually negative?\n",
    "\n",
    "recall negative = $\\frac{238}{238 + 168} = 0.59$\n",
    "\n",
    "How much of the predicted ‘positive’ is actually positive?\n",
    "\n",
    "recall positive = $\\frac{1139}{1139 + 67} = 0.94$\n",
    "\n",
    "How much of the positive is actually predict as positive?\n",
    "\n",
    "precision positive = $\\frac{1139}{1139 + 168} = 0.87$\n",
    "\n",
    "How much of the negative is actually predict as negative?\n",
    "\n",
    "precision negative = $\\frac{238}{238 + 67} = 0.87$"
   ]
  },
  {
   "cell_type": "code",
   "execution_count": 11,
   "metadata": {},
   "outputs": [
    {
     "name": "stdout",
     "output_type": "stream",
     "text": [
      "              precision    recall  f1-score   support\n",
      "\n",
      "    Negative       0.78      0.59      0.67       406\n",
      "    Positive       0.87      0.94      0.91      1206\n",
      "\n",
      "    accuracy                           0.85      1612\n",
      "   macro avg       0.83      0.77      0.79      1612\n",
      "weighted avg       0.85      0.85      0.85      1612\n",
      "\n"
     ]
    }
   ],
   "source": [
    "from sklearn.metrics import classification_report\n",
    "print(classification_report(y_test, y_test_p))"
   ]
  },
  {
   "cell_type": "code",
   "execution_count": 12,
   "metadata": {},
   "outputs": [
    {
     "data": {
      "text/html": [
       "<div>\n",
       "<style scoped>\n",
       "    .dataframe tbody tr th:only-of-type {\n",
       "        vertical-align: middle;\n",
       "    }\n",
       "\n",
       "    .dataframe tbody tr th {\n",
       "        vertical-align: top;\n",
       "    }\n",
       "\n",
       "    .dataframe thead th {\n",
       "        text-align: right;\n",
       "    }\n",
       "</style>\n",
       "<table border=\"1\" class=\"dataframe\">\n",
       "  <thead>\n",
       "    <tr style=\"text-align: right;\">\n",
       "      <th></th>\n",
       "      <th>Clothing ID</th>\n",
       "      <th>Review Text</th>\n",
       "      <th>Rating</th>\n",
       "      <th>Class Name</th>\n",
       "      <th>Rate</th>\n",
       "      <th>Rate_Prediction</th>\n",
       "    </tr>\n",
       "  </thead>\n",
       "  <tbody>\n",
       "    <tr>\n",
       "      <th>12</th>\n",
       "      <td>1095</td>\n",
       "      <td>More and more i find myself reliant on the rev...</td>\n",
       "      <td>5</td>\n",
       "      <td>Dresses</td>\n",
       "      <td>Positive</td>\n",
       "      <td>Negative</td>\n",
       "    </tr>\n",
       "    <tr>\n",
       "      <th>23</th>\n",
       "      <td>1077</td>\n",
       "      <td>Cute little dress fits tts. it is a little hig...</td>\n",
       "      <td>3</td>\n",
       "      <td>Dresses</td>\n",
       "      <td>Negative</td>\n",
       "      <td>Positive</td>\n",
       "    </tr>\n",
       "    <tr>\n",
       "      <th>311</th>\n",
       "      <td>1089</td>\n",
       "      <td>Looks beautiful online but has too much materi...</td>\n",
       "      <td>3</td>\n",
       "      <td>Dresses</td>\n",
       "      <td>Negative</td>\n",
       "      <td>Positive</td>\n",
       "    </tr>\n",
       "    <tr>\n",
       "      <th>383</th>\n",
       "      <td>1104</td>\n",
       "      <td>This dress is not what i expected. the bottom ...</td>\n",
       "      <td>3</td>\n",
       "      <td>Dresses</td>\n",
       "      <td>Negative</td>\n",
       "      <td>Positive</td>\n",
       "    </tr>\n",
       "    <tr>\n",
       "      <th>417</th>\n",
       "      <td>1083</td>\n",
       "      <td>I love byron lars dresses, and this design is ...</td>\n",
       "      <td>2</td>\n",
       "      <td>Dresses</td>\n",
       "      <td>Negative</td>\n",
       "      <td>Positive</td>\n",
       "    </tr>\n",
       "  </tbody>\n",
       "</table>\n",
       "</div>"
      ],
      "text/plain": [
       "     Clothing ID                                        Review Text  Rating  \\\n",
       "12          1095  More and more i find myself reliant on the rev...       5   \n",
       "23          1077  Cute little dress fits tts. it is a little hig...       3   \n",
       "311         1089  Looks beautiful online but has too much materi...       3   \n",
       "383         1104  This dress is not what i expected. the bottom ...       3   \n",
       "417         1083  I love byron lars dresses, and this design is ...       2   \n",
       "\n",
       "    Class Name      Rate Rate_Prediction  \n",
       "12     Dresses  Positive        Negative  \n",
       "23     Dresses  Negative        Positive  \n",
       "311    Dresses  Negative        Positive  \n",
       "383    Dresses  Negative        Positive  \n",
       "417    Dresses  Negative        Positive  "
      ]
     },
     "execution_count": 12,
     "metadata": {},
     "output_type": "execute_result"
    }
   ],
   "source": [
    "df[\"Rate_Prediction\"] = nb.predict(X)\n",
    "df_contradictions = df[df[\"Rate\"] != df[\"Rate_Prediction\"]]\n",
    "df_contradictions.head()"
   ]
  },
  {
   "cell_type": "code",
   "execution_count": 15,
   "metadata": {},
   "outputs": [
    {
     "data": {
      "text/plain": [
       "12       More and more i find myself reliant on the rev...\n",
       "23       Cute little dress fits tts. it is a little hig...\n",
       "311      Looks beautiful online but has too much materi...\n",
       "383      This dress is not what i expected. the bottom ...\n",
       "417      I love byron lars dresses, and this design is ...\n",
       "                               ...                        \n",
       "23406    I was very excited to find a fun and lightweig...\n",
       "23436    I'm 5'6\" and it hits me at mid-thigh. the top ...\n",
       "23475    Cute dress but not for me.  the waist is too h...\n",
       "23483    This fit well, but the top was very see throug...\n",
       "23484    I bought this dress for a wedding i have this ...\n",
       "Name: Review Text, Length: 506, dtype: object"
      ]
     },
     "execution_count": 15,
     "metadata": {},
     "output_type": "execute_result"
    }
   ],
   "source": [
    "df_contradictions[\"Review Text\"]"
   ]
  },
  {
   "cell_type": "markdown",
   "metadata": {},
   "source": [
    "Now you can see whitch reviews are wrong predicted"
   ]
  },
  {
   "cell_type": "code",
   "execution_count": null,
   "metadata": {},
   "outputs": [],
   "source": []
  }
 ],
 "metadata": {
  "kernelspec": {
   "display_name": "Python 3",
   "language": "python",
   "name": "python3"
  },
  "language_info": {
   "codemirror_mode": {
    "name": "ipython",
    "version": 3
   },
   "file_extension": ".py",
   "mimetype": "text/x-python",
   "name": "python",
   "nbconvert_exporter": "python",
   "pygments_lexer": "ipython3",
   "version": "3.8.3"
  }
 },
 "nbformat": 4,
 "nbformat_minor": 4
}
